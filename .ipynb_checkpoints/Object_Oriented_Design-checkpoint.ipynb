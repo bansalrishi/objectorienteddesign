{
 "cells": [
  {
   "cell_type": "markdown",
   "id": "8e15cabc",
   "metadata": {},
   "source": [
    "# Fundamentals of Object Oriented Design"
   ]
  },
  {
   "cell_type": "markdown",
   "id": "c96c8dce",
   "metadata": {},
   "source": [
    "lin: programming-foundations-object-oriented-design-3"
   ]
  },
  {
   "cell_type": "markdown",
   "id": "b1c66fb5",
   "metadata": {},
   "source": [
    "Procedural Programming: Going from point A to B\n",
    "\n",
    "Object Oriented Design: Break everything to object\n"
   ]
  },
  {
   "cell_type": "markdown",
   "id": "6cb6dceb",
   "metadata": {},
   "source": [
    "## Objects\n",
    "\n",
    "Below all are used interchangeably:\n",
    "- attributes\n",
    "- properties\n",
    "- characteristics\n",
    "- state\n",
    "- fields \n",
    "- variables\n",
    "\n",
    "All objects have:\n",
    "- Identity - Coffee mug\n",
    "- Attributes - color, size, fullness\n",
    "- Behaviors - fill(), empty(), clean()\n",
    "\n",
    "What things can be made as an objects:\n",
    "- Noun - The mug, The car, etc\n",
    "\n",
    "What things can be made Behaviors:\n",
    "- Verb - texting (cant be The texting)"
   ]
  },
  {
   "cell_type": "markdown",
   "id": "5df908b9",
   "metadata": {},
   "source": [
    "## Class\n",
    "- code template for creating program objects\n"
   ]
  },
  {
   "cell_type": "markdown",
   "id": "abac3f9c",
   "metadata": {},
   "source": [
    "Inheritance:\n",
    "- Multiple Inheritance - C++, Python\n",
    "- Single Inheritance - Java"
   ]
  },
  {
   "cell_type": "code",
   "execution_count": null,
   "id": "30572457",
   "metadata": {},
   "outputs": [],
   "source": []
  }
 ],
 "metadata": {
  "kernelspec": {
   "display_name": "Python 3",
   "language": "python",
   "name": "python3"
  },
  "language_info": {
   "codemirror_mode": {
    "name": "ipython",
    "version": 3
   },
   "file_extension": ".py",
   "mimetype": "text/x-python",
   "name": "python",
   "nbconvert_exporter": "python",
   "pygments_lexer": "ipython3",
   "version": "3.8.8"
  }
 },
 "nbformat": 4,
 "nbformat_minor": 5
}
